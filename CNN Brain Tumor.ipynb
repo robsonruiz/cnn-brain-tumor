{
 "cells": [
  {
   "cell_type": "markdown",
   "metadata": {},
   "source": [
    "### Dataset \"3 Kinds of Pneumonia\" from Kaggle \n",
    "Link: https://www.kaggle.com/datasets/artyomkolas/3-kinds-of-pneumonia<br>\n",
    "_________________\n",
    "<table align=\"left\">\n",
    "    <tr>\n",
    "        <th>Imagens Normais</th>\n",
    "        <th>Imagens de Pneumonia Bacterial</th>\n",
    "        <th>Imagens de Pneumonia Viral</th>\n",
    "        <th>Imagens de COVID-19</th>\n",
    "        <th>Total de Imagens</th>\n",
    "    </tr>\n",
    "    <tr>\n",
    "        <td style=\"text-align: center;\">3270</td>\n",
    "        <td style=\"text-align: center;\">3001</td>\n",
    "        <td style=\"text-align: center;\">1656</td>\n",
    "        <td style=\"text-align: center;\">1281</td>\n",
    "        <td style=\"text-align: center;\">9208</td>\n",
    "    </tr>\n",
    "</table>"
   ]
  },
  {
   "cell_type": "code",
   "execution_count": 30,
   "metadata": {},
   "outputs": [],
   "source": [
    "import os\n",
    "import cv2\n",
    "import pandas as pd\n",
    "import matplotlib.pyplot as plt\n",
    "import numpy as np\n",
    "from skimage.transform import resize\n",
    "from progressbar import AnimatedMarker, Bar, ETA, FileTransferSpeed, Percentage, ProgressBar\n",
    "import keras\n",
    "from keras.models import Sequential\n",
    "from keras.layers import Dense, Dropout, Flatten\n",
    "from keras.optimizers import Adam, SGD\n",
    "from sklearn.model_selection import train_test_split, KFold\n",
    "from sklearn.metrics import confusion_matrix\n",
    "import seaborn as sns"
   ]
  },
  {
   "cell_type": "markdown",
   "metadata": {},
   "source": [
    "### Carregamento dos Dados"
   ]
  },
  {
   "cell_type": "code",
   "execution_count": 75,
   "metadata": {},
   "outputs": [
    {
     "name": "stderr",
     "output_type": "stream",
     "text": [
      "Loading class 'Healthy': \t100%||||||||||||||||||||| \tTime: 0:00:47 \t 43.84  B/s\n",
      "Loading class 'Brain Tumor': \t100%||||||||||||||||| \tTime: 0:01:08 \t 36.83  B/s\n"
     ]
    }
   ],
   "source": [
    "datadir = \"C:\\\\Users\\\\robso\\\\CNN Brain Tumor\\\\Brain Tumor Data Set\\\\\"\n",
    "categories = ['Healthy', 'Brain Tumor']\n",
    "x = []\n",
    "y = []\n",
    "\n",
    "for category in categories:\n",
    "    widget = [f\"Loading class '{category}': \\t\", Percentage(), Bar(marker=AnimatedMarker()), \" \\t\", ETA(), \" \\t\", FileTransferSpeed()]\n",
    "    pbar = ProgressBar(widgets=widget)\n",
    "    path = os.path.join(datadir, category)\n",
    "    \n",
    "    for (i, file) in enumerate(pbar(os.listdir(path))):\n",
    "        image = cv2.imread(os.path.join(path, file), cv2.IMREAD_GRAYSCALE)\n",
    "        image = resize(image, (256, 256, 3), mode = 'constant', preserve_range = True)\n",
    "        image = np.array(image)\n",
    "        image = image.astype('float32')\n",
    "        image /= 255\n",
    "        x.append(image)\n",
    "        y.append(categories.index(category))"
   ]
  },
  {
   "cell_type": "markdown",
   "metadata": {},
   "source": [
    "### Divisão do Conjunto de Dados"
   ]
  },
  {
   "cell_type": "code",
   "execution_count": 79,
   "metadata": {},
   "outputs": [],
   "source": [
    "x = np.array(x)\n",
    "y = np.array(y)\n",
    "x_train, x_test, y_train, y_test = train_test_split(x, y, test_size=0.2, shuffle=True)"
   ]
  },
  {
   "cell_type": "markdown",
   "metadata": {},
   "source": [
    "### Arquitetura da CNN"
   ]
  },
  {
   "cell_type": "code",
   "execution_count": 80,
   "metadata": {},
   "outputs": [
    {
     "name": "stdout",
     "output_type": "stream",
     "text": [
      "Model: \"sequential_24\"\n",
      "_________________________________________________________________\n",
      "Layer (type)                 Output Shape              Param #   \n",
      "=================================================================\n",
      "flatten_19 (Flatten)         (None, 196608)            0         \n",
      "_________________________________________________________________\n",
      "dense_47 (Dense)             (None, 128)               25165952  \n",
      "_________________________________________________________________\n",
      "dropout_9 (Dropout)          (None, 128)               0         \n",
      "_________________________________________________________________\n",
      "dense_48 (Dense)             (None, 1)                 129       \n",
      "=================================================================\n",
      "Total params: 25,166,081\n",
      "Trainable params: 25,166,081\n",
      "Non-trainable params: 0\n",
      "_________________________________________________________________\n"
     ]
    }
   ],
   "source": [
    "#tf.random.set_seed(42)\n",
    "#np.random.set_seed(42)\n",
    "\n",
    "#kfold = KFold(n_splits=5, shuffle=True)\n",
    "#acc_fold = []\n",
    "#loss_fold = []\n",
    "\n",
    "model = Sequential()\n",
    "\n",
    "model.add(Flatten(input_shape=(256,256,3)))\n",
    "model.add(Dense(128, activation='relu'))\n",
    "model.add(Dropout(0.2))\n",
    "model.add(Dense(1, activation='sigmoid'))\n",
    "\n",
    "model.compile(optimizer=Adam(lr=0.001), \n",
    "              loss='binary_crossentropy',\n",
    "              metrics=['accuracy'])\n",
    "\n",
    "model.summary()"
   ]
  },
  {
   "cell_type": "markdown",
   "metadata": {},
   "source": [
    "### Treinamento da CNN"
   ]
  },
  {
   "cell_type": "code",
   "execution_count": 81,
   "metadata": {},
   "outputs": [
    {
     "name": "stdout",
     "output_type": "stream",
     "text": [
      "Epoch 1/10\n",
      "115/115 [==============================] - 37s 238ms/step - loss: 3.9371 - accuracy: 0.5693 - val_loss: 0.5290 - val_accuracy: 0.7250\n",
      "Epoch 2/10\n",
      "115/115 [==============================] - 21s 181ms/step - loss: 0.5443 - accuracy: 0.7076 - val_loss: 0.4893 - val_accuracy: 0.8228\n",
      "Epoch 3/10\n",
      "115/115 [==============================] - 17s 152ms/step - loss: 0.5001 - accuracy: 0.7540 - val_loss: 0.4795 - val_accuracy: 0.7641\n",
      "Epoch 4/10\n",
      "115/115 [==============================] - 17s 149ms/step - loss: 0.4681 - accuracy: 0.7481 - val_loss: 0.4461 - val_accuracy: 0.7859\n",
      "Epoch 5/10\n",
      "115/115 [==============================] - 17s 150ms/step - loss: 0.4196 - accuracy: 0.7494 - val_loss: 0.3325 - val_accuracy: 0.8402\n",
      "Epoch 6/10\n",
      "115/115 [==============================] - 18s 160ms/step - loss: 0.3894 - accuracy: 0.7666 - val_loss: 0.3120 - val_accuracy: 0.8859\n",
      "Epoch 7/10\n",
      "115/115 [==============================] - 17s 152ms/step - loss: 0.3580 - accuracy: 0.8408 - val_loss: 0.2756 - val_accuracy: 0.8891\n",
      "Epoch 8/10\n",
      "115/115 [==============================] - 17s 147ms/step - loss: 0.3398 - accuracy: 0.8411 - val_loss: 0.3040 - val_accuracy: 0.8913\n",
      "Epoch 9/10\n",
      "115/115 [==============================] - 19s 162ms/step - loss: 0.3196 - accuracy: 0.8374 - val_loss: 0.2484 - val_accuracy: 0.9196\n",
      "Epoch 10/10\n",
      "115/115 [==============================] - 17s 148ms/step - loss: 0.2976 - accuracy: 0.8694 - val_loss: 0.2353 - val_accuracy: 0.9141\n"
     ]
    }
   ],
   "source": [
    "results = model.fit(x_train, y_train, epochs=10, validation_data=(x_test,y_test))"
   ]
  },
  {
   "cell_type": "markdown",
   "metadata": {},
   "source": [
    "### Teste da CNN"
   ]
  },
  {
   "cell_type": "code",
   "execution_count": 82,
   "metadata": {},
   "outputs": [
    {
     "data": {
      "image/png": "[encoded data removed]",
      "text/plain": [
       "<Figure size 720x360 with 2 Axes>"
      ]
     },
     "metadata": {
      "needs_background": "light"
     },
     "output_type": "display_data"
    }
   ],
   "source": [
    "plt.figure(figsize=(10,5))\n",
    "\n",
    "plt.subplot(121)\n",
    "plt.title('Acurácia')\n",
    "plt.ylabel('Acurácia')\n",
    "plt.xlabel('Época')\n",
    "plt.plot(results.history['accuracy'])\n",
    "plt.plot(results.history['val_accuracy'])\n",
    "plt.legend(['Treino', 'Validação'], loc='upper left')\n",
    "\n",
    "plt.subplot(122)\n",
    "plt.title('Perda')\n",
    "plt.ylabel('Perda')\n",
    "plt.xlabel('Época')\n",
    "plt.plot(results.history['loss'])\n",
    "plt.plot(results.history['val_loss'])\n",
    "plt.legend(['Treino', 'Validação'], loc='upper left')\n",
    "\n",
    "plt.show()"
   ]
  },
  {
   "cell_type": "code",
   "execution_count": 83,
   "metadata": {},
   "outputs": [
    {
     "name": "stdout",
     "output_type": "stream",
     "text": [
      "Métrica de avaliação\t\tResultado\n",
      "---------------------------------------------\n",
      "Acurácia:\t\t 91.41304347826087 %\n",
      "Precisão:\t\t 95.75371549893843 %\n",
      "Sensibilidade:\t\t 88.43137254901961 %\n",
      "Especificidade:\t\t 95.1219512195122 %\n"
     ]
    },
    {
     "data": {
      "image/png": "[encoded data removed]",
      "text/plain": [
       "<Figure size 432x288 with 2 Axes>"
      ]
     },
     "metadata": {
      "needs_background": "light"
     },
     "output_type": "display_data"
    }
   ],
   "source": [
    "y_pred = model.predict(x_test)\n",
    "y_pred = np.round(y_pred)\n",
    "\n",
    "cmat=confusion_matrix(y_test,y_pred,labels=[0,1])\n",
    "cm_df = pd.DataFrame(cmat)\n",
    "\n",
    "tp = cmat[1][1]\n",
    "fp = cmat[0][1]\n",
    "tn = cmat[0][0]\n",
    "fn = cmat[1][0]\n",
    "\n",
    "accuracy = ((tp+tn)*100)/np.sum(cmat)\n",
    "precision = (tp*100)/(tp+fp)\n",
    "sensibility = (tp*100/(tp+fn))\n",
    "specificity = (tn*100)/(fp+tn)\n",
    "\n",
    "print('Métrica de avaliação\\t\\tResultado')\n",
    "print('---------------------------------------------')\n",
    "print('Acurácia:\\t\\t',accuracy,\"%\")\n",
    "print('Precisão:\\t\\t',precision,\"%\")\n",
    "\n",
    "print('Sensibilidade:\\t\\t',sensibility,\"%\")\n",
    "print('Especificidade:\\t\\t',specificity,\"%\")\n",
    "                   \n",
    "plt.title('Teste')\n",
    "sns.heatmap(cm_df, annot=True, fmt=\"d\", cmap=plt.cm.Oranges)\n",
    "plt.show()"
   ]
  }
 ],
 "metadata": {
  "kernelspec": {
   "display_name": "Python 3",
   "language": "python",
   "name": "python3"
  },
  "language_info": {
   "codemirror_mode": {
    "name": "ipython",
    "version": 3
   },
   "file_extension": ".py",
   "mimetype": "text/x-python",
   "name": "python",
   "nbconvert_exporter": "python",
   "pygments_lexer": "ipython3",
   "version": "3.8.5"
  }
 },
 "nbformat": 4,
 "nbformat_minor": 4
}

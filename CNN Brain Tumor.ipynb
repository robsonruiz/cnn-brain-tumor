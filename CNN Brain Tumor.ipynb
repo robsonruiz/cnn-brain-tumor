{
 "cells": [
  {
   "cell_type": "markdown",
   "metadata": {},
   "source": [
    "### Brain Tumor Dataset from Kaggle \n",
    "Link: https://www.kaggle.com/datasets/preetviradiya/brian-tumor-dataset<br>\n",
    "_________________\n",
    "<table align=\"left\">\n",
    "    <tr>\n",
    "        <th>Com tumor</th>\n",
    "        <th>Sem tumor</th>\n",
    "        <th>Total</th>\n",
    "    </tr>\n",
    "    <tr>\n",
    "        <td style=\"text-align: center;\">2513</td>\n",
    "        <td style=\"text-align: center;\">2087</td>\n",
    "        <td style=\"text-align: center;\">4600</td>\n",
    "    </tr>\n",
    "</table>"
   ]
  },
  {
   "cell_type": "code",
   "execution_count": 1,
   "metadata": {},
   "outputs": [],
   "source": [
    "import os\n",
    "import cv2\n",
    "import pandas as pd\n",
    "import matplotlib.pyplot as plt\n",
    "import numpy as np\n",
    "from skimage.transform import resize\n",
    "from progressbar import AnimatedMarker, Bar, ETA, FileTransferSpeed, Percentage, ProgressBar\n",
    "import keras\n",
    "import tensorflow as tf\n",
    "from keras.models import Sequential\n",
    "from keras.layers import Dense, Dropout, Flatten\n",
    "from keras.optimizers import Adam, SGD\n",
    "from sklearn.model_selection import train_test_split, KFold\n",
    "from sklearn.metrics import confusion_matrix, roc_curve, auc\n",
    "import seaborn as sns"
   ]
  },
  {
   "cell_type": "markdown",
   "metadata": {},
   "source": [
    "### Carregamento dos Dados"
   ]
  },
  {
   "cell_type": "code",
   "execution_count": 4,
   "metadata": {},
   "outputs": [],
   "source": [
    "datadir = \"C:\\\\Users\\\\robso\\\\CNN Brain Tumor\\\\Brain Tumor Data Set\\\\\"\n",
    "categories = ['Healthy', 'Brain Tumor']\n",
    "x = []\n",
    "y = []\n",
    "\n",
    "for category in categories:\n",
    "    path = os.path.join(datadir, category)\n",
    "    \n",
    "    for i in os.listdir(path):\n",
    "        image = cv2.imread(os.path.join(path, i), cv2.IMREAD_GRAYSCALE)\n",
    "        image = resize(image, (128, 128, 3), mode = 'constant', preserve_range = True)\n",
    "        image = np.array(image)\n",
    "        image = image.astype('float32')\n",
    "        image /= 255\n",
    "        x.append(image)\n",
    "        y.append(categories.index(category))"
   ]
  },
  {
   "cell_type": "markdown",
   "metadata": {},
   "source": [
    "### Divisão do Conjunto de Dados"
   ]
  },
  {
   "cell_type": "code",
   "execution_count": 5,
   "metadata": {},
   "outputs": [],
   "source": [
    "x = np.array(x)\n",
    "y = np.array(y)\n",
    "\n",
    "x2, x_test, y2, y_test = train_test_split(x, y, test_size=0.1, shuffle=True, stratify=y)\n",
    "x_train, x_val, y_train, y_val = train_test_split(x2, y2, test_size=0.2, shuffle=True, stratify=y2)\n",
    "\n",
    "inputs = np.concatenate((x_train, x_val), axis=0)\n",
    "targets = np.concatenate((y_train, y_val), axis=0)"
   ]
  },
  {
   "cell_type": "markdown",
   "metadata": {},
   "source": [
    "### Arquitetura e Treinamento da CNN"
   ]
  },
  {
   "cell_type": "code",
   "execution_count": 9,
   "metadata": {},
   "outputs": [
    {
     "name": "stdout",
     "output_type": "stream",
     "text": [
      "Model: \"sequential_6\"\n",
      "_________________________________________________________________\n",
      "Layer (type)                 Output Shape              Param #   \n",
      "=================================================================\n",
      "flatten_6 (Flatten)          (None, 49152)             0         \n",
      "_________________________________________________________________\n",
      "dense_12 (Dense)             (None, 128)               6291584   \n",
      "_________________________________________________________________\n",
      "dropout_6 (Dropout)          (None, 128)               0         \n",
      "_________________________________________________________________\n",
      "dense_13 (Dense)             (None, 1)                 129       \n",
      "=================================================================\n",
      "Total params: 6,291,713\n",
      "Trainable params: 6,291,713\n",
      "Non-trainable params: 0\n",
      "_________________________________________________________________\n",
      "Epoch 1/10\n",
      "104/104 [==============================] - 10s 87ms/step - loss: 1.2996 - accuracy: 0.6098 - val_loss: 0.5415 - val_accuracy: 0.7343\n",
      "Epoch 2/10\n",
      "104/104 [==============================] - 5s 47ms/step - loss: 0.5164 - accuracy: 0.7397 - val_loss: 0.5086 - val_accuracy: 0.7911\n",
      "Epoch 3/10\n",
      "104/104 [==============================] - 5s 48ms/step - loss: 0.4731 - accuracy: 0.7967 - val_loss: 0.4826 - val_accuracy: 0.7947\n",
      "Epoch 4/10\n",
      "104/104 [==============================] - 5s 47ms/step - loss: 0.4115 - accuracy: 0.8130 - val_loss: 0.4321 - val_accuracy: 0.8068\n",
      "Epoch 5/10\n",
      "104/104 [==============================] - 5s 47ms/step - loss: 0.3760 - accuracy: 0.8355 - val_loss: 0.3405 - val_accuracy: 0.8792\n",
      "Epoch 6/10\n",
      "104/104 [==============================] - 5s 46ms/step - loss: 0.3290 - accuracy: 0.8754 - val_loss: 0.3963 - val_accuracy: 0.8382\n",
      "Epoch 7/10\n",
      "104/104 [==============================] - 5s 50ms/step - loss: 0.2902 - accuracy: 0.8903 - val_loss: 0.3608 - val_accuracy: 0.8599\n",
      "Epoch 8/10\n",
      "104/104 [==============================] - 5s 50ms/step - loss: 0.2843 - accuracy: 0.8869 - val_loss: 0.2938 - val_accuracy: 0.8937\n",
      "Epoch 9/10\n",
      "104/104 [==============================] - 5s 47ms/step - loss: 0.2114 - accuracy: 0.9257 - val_loss: 0.3534 - val_accuracy: 0.8659\n",
      "Epoch 10/10\n",
      "104/104 [==============================] - 5s 47ms/step - loss: 0.2107 - accuracy: 0.9162 - val_loss: 0.2543 - val_accuracy: 0.9106\n",
      "-----------------------------------------------\n",
      "Score: loss de 0.2543131411075592; accuracy de 91.06280207633972%\n",
      "Model: \"sequential_7\"\n",
      "_________________________________________________________________\n",
      "Layer (type)                 Output Shape              Param #   \n",
      "=================================================================\n",
      "flatten_7 (Flatten)          (None, 49152)             0         \n",
      "_________________________________________________________________\n",
      "dense_14 (Dense)             (None, 128)               6291584   \n",
      "_________________________________________________________________\n",
      "dropout_7 (Dropout)          (None, 128)               0         \n",
      "_________________________________________________________________\n",
      "dense_15 (Dense)             (None, 1)                 129       \n",
      "=================================================================\n",
      "Total params: 6,291,713\n",
      "Trainable params: 6,291,713\n",
      "Non-trainable params: 0\n",
      "_________________________________________________________________\n",
      "Epoch 1/10\n",
      "104/104 [==============================] - 6s 50ms/step - loss: 1.0363 - accuracy: 0.6454 - val_loss: 0.5300 - val_accuracy: 0.7609\n",
      "Epoch 2/10\n",
      "104/104 [==============================] - 5s 47ms/step - loss: 0.4981 - accuracy: 0.7777 - val_loss: 0.5276 - val_accuracy: 0.7536\n",
      "Epoch 3/10\n",
      "104/104 [==============================] - 5s 48ms/step - loss: 0.4545 - accuracy: 0.7972 - val_loss: 0.4231 - val_accuracy: 0.8200\n",
      "Epoch 4/10\n",
      "104/104 [==============================] - 5s 47ms/step - loss: 0.4029 - accuracy: 0.8353 - val_loss: 0.3714 - val_accuracy: 0.8478\n",
      "Epoch 5/10\n",
      "104/104 [==============================] - 5s 47ms/step - loss: 0.3307 - accuracy: 0.8660 - val_loss: 0.4039 - val_accuracy: 0.8140\n",
      "Epoch 6/10\n",
      "104/104 [==============================] - 5s 48ms/step - loss: 0.3284 - accuracy: 0.8632 - val_loss: 0.3327 - val_accuracy: 0.8671\n",
      "Epoch 7/10\n",
      "104/104 [==============================] - 5s 47ms/step - loss: 0.2787 - accuracy: 0.8953 - val_loss: 0.3026 - val_accuracy: 0.8913\n",
      "Epoch 8/10\n",
      "104/104 [==============================] - 5s 47ms/step - loss: 0.2372 - accuracy: 0.9079 - val_loss: 0.2957 - val_accuracy: 0.8853\n",
      "Epoch 9/10\n",
      "104/104 [==============================] - 6s 54ms/step - loss: 0.2208 - accuracy: 0.9132 - val_loss: 0.3110 - val_accuracy: 0.8756\n",
      "Epoch 10/10\n",
      "104/104 [==============================] - 6s 60ms/step - loss: 0.2268 - accuracy: 0.9081 - val_loss: 0.2697 - val_accuracy: 0.8986\n",
      "-----------------------------------------------\n",
      "Score: loss de 0.2696717381477356; accuracy de 89.85507488250732%\n",
      "Model: \"sequential_8\"\n",
      "_________________________________________________________________\n",
      "Layer (type)                 Output Shape              Param #   \n",
      "=================================================================\n",
      "flatten_8 (Flatten)          (None, 49152)             0         \n",
      "_________________________________________________________________\n",
      "dense_16 (Dense)             (None, 128)               6291584   \n",
      "_________________________________________________________________\n",
      "dropout_8 (Dropout)          (None, 128)               0         \n",
      "_________________________________________________________________\n",
      "dense_17 (Dense)             (None, 1)                 129       \n",
      "=================================================================\n",
      "Total params: 6,291,713\n",
      "Trainable params: 6,291,713\n",
      "Non-trainable params: 0\n",
      "_________________________________________________________________\n",
      "Epoch 1/10\n",
      "104/104 [==============================] - 6s 51ms/step - loss: 1.3883 - accuracy: 0.5658 - val_loss: 0.5707 - val_accuracy: 0.6679\n",
      "Epoch 2/10\n",
      "104/104 [==============================] - 5s 49ms/step - loss: 0.5871 - accuracy: 0.7040 - val_loss: 0.5231 - val_accuracy: 0.7476\n",
      "Epoch 3/10\n",
      "104/104 [==============================] - 5s 50ms/step - loss: 0.4888 - accuracy: 0.7663 - val_loss: 0.4957 - val_accuracy: 0.7802\n",
      "Epoch 4/10\n",
      "104/104 [==============================] - 5s 50ms/step - loss: 0.4561 - accuracy: 0.8016 - val_loss: 0.5126 - val_accuracy: 0.7572\n",
      "Epoch 5/10\n",
      "104/104 [==============================] - 5s 47ms/step - loss: 0.4063 - accuracy: 0.8232 - val_loss: 0.4048 - val_accuracy: 0.8357\n",
      "Epoch 6/10\n",
      "104/104 [==============================] - 5s 46ms/step - loss: 0.3717 - accuracy: 0.8332 - val_loss: 0.3723 - val_accuracy: 0.8502\n",
      "Epoch 7/10\n",
      "104/104 [==============================] - 5s 45ms/step - loss: 0.3300 - accuracy: 0.8545 - val_loss: 0.3594 - val_accuracy: 0.8539\n",
      "Epoch 8/10\n",
      "104/104 [==============================] - 5s 47ms/step - loss: 0.3025 - accuracy: 0.8687 - val_loss: 0.3959 - val_accuracy: 0.8309\n",
      "Epoch 9/10\n",
      "104/104 [==============================] - 5s 47ms/step - loss: 0.2737 - accuracy: 0.8717 - val_loss: 0.3355 - val_accuracy: 0.8804\n",
      "Epoch 10/10\n",
      "104/104 [==============================] - 5s 47ms/step - loss: 0.2680 - accuracy: 0.8902 - val_loss: 0.3581 - val_accuracy: 0.8575\n",
      "-----------------------------------------------\n",
      "Score: loss de 0.35810476541519165; accuracy de 85.74879169464111%\n",
      "Model: \"sequential_9\"\n",
      "_________________________________________________________________\n",
      "Layer (type)                 Output Shape              Param #   \n",
      "=================================================================\n",
      "flatten_9 (Flatten)          (None, 49152)             0         \n",
      "_________________________________________________________________\n",
      "dense_18 (Dense)             (None, 128)               6291584   \n",
      "_________________________________________________________________\n",
      "dropout_9 (Dropout)          (None, 128)               0         \n",
      "_________________________________________________________________\n",
      "dense_19 (Dense)             (None, 1)                 129       \n",
      "=================================================================\n",
      "Total params: 6,291,713\n",
      "Trainable params: 6,291,713\n",
      "Non-trainable params: 0\n",
      "_________________________________________________________________\n"
     ]
    },
    {
     "name": "stdout",
     "output_type": "stream",
     "text": [
      "Epoch 1/10\n",
      "104/104 [==============================] - 7s 56ms/step - loss: 1.3419 - accuracy: 0.5728 - val_loss: 0.5266 - val_accuracy: 0.7717\n",
      "Epoch 2/10\n",
      "104/104 [==============================] - 5s 49ms/step - loss: 0.5816 - accuracy: 0.6992 - val_loss: 0.4878 - val_accuracy: 0.7862\n",
      "Epoch 3/10\n",
      "104/104 [==============================] - 5s 48ms/step - loss: 0.5135 - accuracy: 0.7597 - val_loss: 0.4120 - val_accuracy: 0.8370\n",
      "Epoch 4/10\n",
      "104/104 [==============================] - 5s 47ms/step - loss: 0.4378 - accuracy: 0.8111 - val_loss: 0.3981 - val_accuracy: 0.8406\n",
      "Epoch 5/10\n",
      "104/104 [==============================] - 5s 48ms/step - loss: 0.3933 - accuracy: 0.8269 - val_loss: 0.3463 - val_accuracy: 0.8454\n",
      "Epoch 6/10\n",
      "104/104 [==============================] - 5s 49ms/step - loss: 0.3319 - accuracy: 0.8702 - val_loss: 0.3148 - val_accuracy: 0.8937\n",
      "Epoch 7/10\n",
      "104/104 [==============================] - 5s 46ms/step - loss: 0.2875 - accuracy: 0.8965 - val_loss: 0.2876 - val_accuracy: 0.8804\n",
      "Epoch 8/10\n",
      "104/104 [==============================] - 5s 46ms/step - loss: 0.2949 - accuracy: 0.8881 - val_loss: 0.2507 - val_accuracy: 0.9106\n",
      "Epoch 9/10\n",
      "104/104 [==============================] - 5s 46ms/step - loss: 0.2473 - accuracy: 0.9066 - val_loss: 0.2267 - val_accuracy: 0.9263\n",
      "Epoch 10/10\n",
      "104/104 [==============================] - 5s 46ms/step - loss: 0.2437 - accuracy: 0.9091 - val_loss: 0.2167 - val_accuracy: 0.9191\n",
      "-----------------------------------------------\n",
      "Score: loss de 0.2167159765958786; accuracy de 91.90821051597595%\n",
      "Model: \"sequential_10\"\n",
      "_________________________________________________________________\n",
      "Layer (type)                 Output Shape              Param #   \n",
      "=================================================================\n",
      "flatten_10 (Flatten)         (None, 49152)             0         \n",
      "_________________________________________________________________\n",
      "dense_20 (Dense)             (None, 128)               6291584   \n",
      "_________________________________________________________________\n",
      "dropout_10 (Dropout)         (None, 128)               0         \n",
      "_________________________________________________________________\n",
      "dense_21 (Dense)             (None, 1)                 129       \n",
      "=================================================================\n",
      "Total params: 6,291,713\n",
      "Trainable params: 6,291,713\n",
      "Non-trainable params: 0\n",
      "_________________________________________________________________\n",
      "Epoch 1/10\n",
      "104/104 [==============================] - 11s 86ms/step - loss: 1.5042 - accuracy: 0.5554 - val_loss: 0.5325 - val_accuracy: 0.7138\n",
      "Epoch 2/10\n",
      "104/104 [==============================] - 5s 49ms/step - loss: 0.5255 - accuracy: 0.7582 - val_loss: 0.4696 - val_accuracy: 0.7983\n",
      "Epoch 3/10\n",
      "104/104 [==============================] - 5s 50ms/step - loss: 0.4607 - accuracy: 0.7958 - val_loss: 0.4092 - val_accuracy: 0.8152\n",
      "Epoch 4/10\n",
      "104/104 [==============================] - 6s 58ms/step - loss: 0.4157 - accuracy: 0.8136 - val_loss: 0.4829 - val_accuracy: 0.7476\n",
      "Epoch 5/10\n",
      "104/104 [==============================] - 5s 49ms/step - loss: 0.3772 - accuracy: 0.8392 - val_loss: 0.3968 - val_accuracy: 0.8176\n",
      "Epoch 6/10\n",
      "104/104 [==============================] - 5s 48ms/step - loss: 0.3702 - accuracy: 0.8485 - val_loss: 0.3460 - val_accuracy: 0.8466\n",
      "Epoch 7/10\n",
      "104/104 [==============================] - 5s 49ms/step - loss: 0.2910 - accuracy: 0.8896 - val_loss: 0.3340 - val_accuracy: 0.8732\n",
      "Epoch 8/10\n",
      "104/104 [==============================] - 5s 49ms/step - loss: 0.2781 - accuracy: 0.8963 - val_loss: 0.2866 - val_accuracy: 0.8865\n",
      "Epoch 9/10\n",
      "104/104 [==============================] - 5s 48ms/step - loss: 0.2796 - accuracy: 0.8853 - val_loss: 0.2486 - val_accuracy: 0.8986\n",
      "Epoch 10/10\n",
      "104/104 [==============================] - 5s 48ms/step - loss: 0.2291 - accuracy: 0.9121 - val_loss: 0.2411 - val_accuracy: 0.9082\n",
      "-----------------------------------------------\n",
      "Score: loss de 0.24106968939304352; accuracy de 90.82125425338745%\n",
      "\n",
      "Média de todos folds\n",
      "-----------------------------------------------\n",
      "Acurácia:89.87922668457031% (+/- 90.82125425338745%)\n",
      "Loss:0.24106968939304352%\n"
     ]
    }
   ],
   "source": [
    "tf.random.set_seed(42)\n",
    "np.random.seed(42)\n",
    "\n",
    "kfold = KFold(n_splits=5, shuffle=True)\n",
    "acc_fold = []\n",
    "loss_fold = []\n",
    "\n",
    "for train, test in kfold.split(inputs, targets):\n",
    "    model = Sequential()\n",
    "\n",
    "    model.add(Flatten(input_shape=(128,128,3)))\n",
    "    model.add(Dense(128, activation='relu'))\n",
    "    model.add(Dropout(0.2))\n",
    "    model.add(Dense(1, activation='sigmoid'))\n",
    "\n",
    "    model.compile(optimizer=Adam(lr=0.001), \n",
    "                  loss='binary_crossentropy',\n",
    "                  metrics=['accuracy'])\n",
    "\n",
    "    model.summary()\n",
    "    \n",
    "    results = model.fit(inputs[train], targets[train], epochs=10, validation_data=(inputs[test], targets[test]))\n",
    "    score, acc = model.evaluate(inputs[test], targets[test], verbose=0)\n",
    "    print('-----------------------------------------------')\n",
    "    print(f'Score: {model.metrics_names[0]} de {score}; {model.metrics_names[1]} de {acc*100}%')\n",
    "    acc_fold.append(acc*100)\n",
    "    loss_fold.append(score)\n",
    "\n",
    "print('\\nMédia de todos folds')\n",
    "print('-----------------------------------------------')\n",
    "print(f'Acurácia: {np.mean(acc_fold)}% (+/- {np.median(acc_fold)}%)')\n",
    "print(f'Loss: {np.mean(score)}%')"
   ]
  },
  {
   "cell_type": "code",
   "execution_count": 10,
   "metadata": {},
   "outputs": [
    {
     "data": {
      "image/png": "[encoded data removed]",
      "text/plain": [
       "<Figure size 720x360 with 2 Axes>"
      ]
     },
     "metadata": {
      "needs_background": "light"
     },
     "output_type": "display_data"
    }
   ],
   "source": [
    "plt.figure(figsize=(10,5))\n",
    "\n",
    "plt.subplot(121)\n",
    "plt.title('Acurácia')\n",
    "plt.ylabel('Acurácia')\n",
    "plt.xlabel('Época')\n",
    "plt.plot(results.history['accuracy'])\n",
    "plt.plot(results.history['val_accuracy'])\n",
    "plt.legend(['Treino', 'Validação'], loc='upper left')\n",
    "\n",
    "plt.subplot(122)\n",
    "plt.title('Perda')\n",
    "plt.ylabel('Perda')\n",
    "plt.xlabel('Época')\n",
    "plt.plot(results.history['loss'])\n",
    "plt.plot(results.history['val_loss'])\n",
    "plt.legend(['Treino', 'Validação'], loc='upper left')\n",
    "\n",
    "plt.show()"
   ]
  },
  {
   "cell_type": "markdown",
   "metadata": {},
   "source": [
    "### Teste da CNN"
   ]
  },
  {
   "cell_type": "code",
   "execution_count": 11,
   "metadata": {},
   "outputs": [
    {
     "name": "stdout",
     "output_type": "stream",
     "text": [
      "Métrica de avaliação\t\tResultado\n",
      "---------------------------------------------\n",
      "Acurácia:\t\t 90.65217391304348 %\n",
      "Precisão:\t\t 88.23529411764706 %\n",
      "Sensibilidade:\t\t 95.61752988047809 %\n",
      "Especificidade:\t\t 84.68899521531101 %\n"
     ]
    },
    {
     "data": {
      "image/png": "[encoded data removed]",
      "text/plain": [
       "<Figure size 432x288 with 2 Axes>"
      ]
     },
     "metadata": {
      "needs_background": "light"
     },
     "output_type": "display_data"
    }
   ],
   "source": [
    "y_pred = model.predict(x_test)\n",
    "y_pred = np.round(y_pred)\n",
    "\n",
    "cmat=confusion_matrix(y_test,y_pred,labels=[0,1])\n",
    "cm_df = pd.DataFrame(cmat)\n",
    "\n",
    "tp = cmat[1][1]\n",
    "fp = cmat[0][1]\n",
    "tn = cmat[0][0]\n",
    "fn = cmat[1][0]\n",
    "\n",
    "accuracy = ((tp+tn)*100)/np.sum(cmat)\n",
    "precision = (tp*100)/(tp+fp)\n",
    "sensibility = (tp*100/(tp+fn))\n",
    "specificity = (tn*100)/(fp+tn)\n",
    "\n",
    "print('Métrica de avaliação\\t\\tResultado')\n",
    "print('---------------------------------------------')\n",
    "print('Acurácia:\\t\\t',accuracy,\"%\")\n",
    "print('Precisão:\\t\\t',precision,\"%\")\n",
    "\n",
    "print('Sensibilidade:\\t\\t',sensibility,\"%\")\n",
    "print('Especificidade:\\t\\t',specificity,\"%\")\n",
    "                   \n",
    "plt.title('Teste')\n",
    "sns.heatmap(cm_df, annot=True, fmt=\"d\", cmap=plt.cm.Oranges)\n",
    "plt.show()"
   ]
  },
  {
   "cell_type": "code",
   "execution_count": 12,
   "metadata": {},
   "outputs": [
    {
     "data": {
      "image/png": "[encoded data removed]",
      "text/plain": [
       "<Figure size 432x288 with 1 Axes>"
      ]
     },
     "metadata": {
      "needs_background": "light"
     },
     "output_type": "display_data"
    }
   ],
   "source": [
    "fpr_cnn, tpr_cnn, threshold_cnn = roc_curve(y_test, y_pred)\n",
    "auc_cnn = auc(fpr_cnn, tpr_cnn)\n",
    "\n",
    "plt.figure(1)\n",
    "plt.plot([0,1],[0,1],'k--')\n",
    "plt.plot(fpr_cnn, tpr_cnn, label='AUC: {:.4f}'.format(auc_cnn))\n",
    "plt.xlabel('False Positive Rate')\n",
    "plt.ylabel('True Positive Rate')\n",
    "plt.legend(loc='best')\n",
    "plt.show()"
   ]
  }
 ],
 "metadata": {
  "kernelspec": {
   "display_name": "Python 3",
   "language": "python",
   "name": "python3"
  },
  "language_info": {
   "codemirror_mode": {
    "name": "ipython",
    "version": 3
   },
   "file_extension": ".py",
   "mimetype": "text/x-python",
   "name": "python",
   "nbconvert_exporter": "python",
   "pygments_lexer": "ipython3",
   "version": "3.8.5"
  }
 },
 "nbformat": 4,
 "nbformat_minor": 4
}
